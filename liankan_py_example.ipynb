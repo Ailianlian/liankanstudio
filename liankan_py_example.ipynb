{
  "nbformat": 4,
  "nbformat_minor": 0,
  "metadata": {
    "colab": {
      "name": "liankan_cli_example.ipynb",
      "provenance": [],
      "collapsed_sections": [],
      "toc_visible": true,
      "authorship_tag": "ABX9TyMqQW/oPaTfHAilc2r5K4bS",
      "include_colab_link": true
    },
    "kernelspec": {
      "name": "python3",
      "display_name": "Python 3"
    },
    "accelerator": "GPU"
  },
  "cells": [
    {
      "cell_type": "markdown",
      "metadata": {
        "id": "view-in-github",
        "colab_type": "text"
      },
      "source": [
        "<a href=\"https://colab.research.google.com/github/Ailianlian/liankanstudio/blob/master/liankan_py_example.ipynb\" target=\"_parent\"><img src=\"https://colab.research.google.com/assets/colab-badge.svg\" alt=\"Open In Colab\"/></a>"
      ]
    },
    {
      "cell_type": "markdown",
      "metadata": {
        "id": "ywRNabWf6_rZ"
      },
      "source": [
        "LianKanStudio Installation from Github.\r\n",
        "you can comment %%capture to see the cell output"
      ]
    },
    {
      "cell_type": "code",
      "metadata": {
        "id": "qoNM0a6eW-3P"
      },
      "source": [
        "%%capture\r\n",
        "!git clone https://github.com/Ailianlian/liankanstudio.git;"
      ],
      "execution_count": 1,
      "outputs": []
    },
    {
      "cell_type": "code",
      "metadata": {
        "id": "nbgeEv9oXF2g"
      },
      "source": [
        "%%capture\r\n",
        "%cd liankanstudio"
      ],
      "execution_count": 2,
      "outputs": []
    },
    {
      "cell_type": "code",
      "metadata": {
        "id": "h9PzWLo5XH9T"
      },
      "source": [
        "%%capture\r\n",
        "!pip install -r requirments.txt"
      ],
      "execution_count": 3,
      "outputs": []
    },
    {
      "cell_type": "code",
      "metadata": {
        "id": "AP5LjzpTXKEZ"
      },
      "source": [
        "# If you need restart after previous cell then execute, if not let the comment \r\n",
        "# %%capture\r\n",
        "# %cd liankanstudio"
      ],
      "execution_count": 4,
      "outputs": []
    },
    {
      "cell_type": "code",
      "metadata": {
        "id": "pay2kaoXXgI6"
      },
      "source": [
        "%%capture\r\n",
        "!python setup.py bdist_wheel"
      ],
      "execution_count": 5,
      "outputs": []
    },
    {
      "cell_type": "code",
      "metadata": {
        "id": "NHxKSElQX2vD"
      },
      "source": [
        "%%capture\r\n",
        "!pip install dist/liankanstudio-0.4.3.1-py3-none-any.whl"
      ],
      "execution_count": 6,
      "outputs": []
    },
    {
      "cell_type": "code",
      "metadata": {
        "colab": {
          "base_uri": "https://localhost:8080/"
        },
        "id": "gqyDUCRsYLe3",
        "outputId": "a98915f3-fcea-444f-dac4-ababbdcf8361"
      },
      "source": [
        "# check you have torch cuda support. Enable it if you want (but there is really no reason to not do it.)\r\n",
        "import torch\r\n",
        "torch.cuda.is_available()"
      ],
      "execution_count": 7,
      "outputs": [
        {
          "output_type": "execute_result",
          "data": {
            "text/plain": [
              "True"
            ]
          },
          "metadata": {
            "tags": []
          },
          "execution_count": 7
        }
      ]
    },
    {
      "cell_type": "code",
      "metadata": {
        "id": "FbcO9KXpYfp3"
      },
      "source": [
        "import liankanstudio as lks"
      ],
      "execution_count": 8,
      "outputs": []
    },
    {
      "cell_type": "code",
      "metadata": {
        "id": "T7fk-Fq-aQUP"
      },
      "source": [
        "from liankanstudio.util.yt_util import download, parse_url"
      ],
      "execution_count": 9,
      "outputs": []
    },
    {
      "cell_type": "code",
      "metadata": {
        "colab": {
          "base_uri": "https://localhost:8080/"
        },
        "id": "X6p_8u2yaXrW",
        "outputId": "3cbb9e0c-b264-4404-f705-56148b85aef3"
      },
      "source": [
        "# Takes a video, here is MISS DIOR – The new Eau de Parfum. Why not.\r\n",
        "video_path, _ = download(parse_url(\"https://www.youtube.com/watch?v=h4s0llOpKrU\"),'./temp_dl',\"dior\")"
      ],
      "execution_count": 10,
      "outputs": [
        {
          "output_type": "stream",
          "text": [
            "The directory is not present. Creating a new one..\n"
          ],
          "name": "stdout"
        }
      ]
    },
    {
      "cell_type": "code",
      "metadata": {
        "id": "tP-nI9l0ARsK"
      },
      "source": [
        "# We can open a Capture.\r\n",
        "capture = lks.Capture(video_path)"
      ],
      "execution_count": 21,
      "outputs": []
    },
    {
      "cell_type": "code",
      "metadata": {
        "id": "v13ua3R8AaBz",
        "colab": {
          "base_uri": "https://localhost:8080/"
        },
        "outputId": "901b3d23-cab7-4bed-c409-cc22fc06b46f"
      },
      "source": [
        "# Compute the scenes via a threshold method. This is used to know when we have to detect.\r\n",
        "capture.find_scenes()"
      ],
      "execution_count": 22,
      "outputs": [
        {
          "output_type": "stream",
          "text": [
            "100%|██████████| 1125/1125 [00:01<00:00, 677.13frames/s]\n"
          ],
          "name": "stderr"
        }
      ]
    },
    {
      "cell_type": "code",
      "metadata": {
        "colab": {
          "base_uri": "https://localhost:8080/"
        },
        "id": "nC1KjyKjatym",
        "outputId": "48da7c6b-e1d0-4865-b42f-ddd40e0c148d"
      },
      "source": [
        "# Here we create a detector with keypoint rcnn with resnet 50 as backbone, the one from torchvision models.\r\n",
        "# detector = lks.Detector(method=\"torchkrcnn\", target=\"person\")\r\n",
        "# The target can be any classes of lks.detector.COCO_INSTANCE_CATEGORY_NAMES\r\n",
        "# you can use method=\"ssd\"\r\n",
        "# With the method=\"yolo\" you can download the weights and cfg from https://pjreddie.com/darknet/yolo/ , the default is tiny.\r\n",
        "# detector = lks.Detector(method=\"yolo\", target=\"person\", proto_path=\"truc.cfg\", weights=\"truc.weights\", size=500, classes=PERSONNAL_CLASSES_LIST)\r\n",
        "# detector = lks.Detector(method=\"yolo\", target=\"person\")\r\n",
        "# For the method ssd we use a ssd with mobilenet backbone. You can also change the location of weights with caffemodel.\r\n",
        "# To go fast\r\n",
        "detector = lks.Detector(method=\"ssd\", target=\"person\")"
      ],
      "execution_count": 13,
      "outputs": [
        {
          "output_type": "stream",
          "text": [
            "/usr/local/lib/python3.6/dist-packages/liankanstudio/data/ssd/ssd_deploy.prototxt\n"
          ],
          "name": "stdout"
        }
      ]
    },
    {
      "cell_type": "code",
      "metadata": {
        "id": "9OVrBOXrF3YH",
        "colab": {
          "base_uri": "https://localhost:8080/"
        },
        "outputId": "1fd6edbb-0d00-422f-b754-524785366831"
      },
      "source": [
        "cache = capture.compute_stat(detector, 10, video_path=\"./temp_dl/ssd_rt10.avi\",threshold_detect=0.25,cache=True) # 10fps since cpu for ssd :(, use frcnn with gpu"
      ],
      "execution_count": 14,
      "outputs": [
        {
          "output_type": "stream",
          "text": [
            "100%|██████████| 1125/1125 [00:03<00:00, 368.13 frames /s]\n",
            "100%|██████████| 1125/1125 [00:00<00:00, 1015187.61it/s]\n",
            "100%|██████████| 1125/1125 [01:40<00:00, 11.23 frames /s]\n",
            "  2%|▏         | 19/1125 [00:00<00:05, 186.56 frames /s]"
          ],
          "name": "stderr"
        },
        {
          "output_type": "stream",
          "text": [
            "./temp_dl/ssd_rt10.avi\n"
          ],
          "name": "stdout"
        },
        {
          "output_type": "stream",
          "text": [
            "100%|██████████| 1125/1125 [00:05<00:00, 208.17 frames /s]\n"
          ],
          "name": "stderr"
        }
      ]
    },
    {
      "cell_type": "code",
      "metadata": {
        "id": "h4vYs3JzHnUj"
      },
      "source": [
        "# The purpose of cache is to help to do a warmup in the future.\r\n",
        "# for example we can look cache[0]\r\n",
        "# len(cache) =number of scene we have detected\r\n",
        "# cache[0] is a dictionnary giving for each frame all the boxes detected, if there is a detection, the confidence, the labels and the tracking\r\n",
        "# for example we can do the function\r\n",
        "def get_alive_object_by_frame(scene_info):\r\n",
        "  return [len(scene_info[frame_nb][\"trackables\"]) for frame_nb in scene_info]\r\n",
        "def get_id_object_life(scene_info, obj_id):\r\n",
        "  # return the presence or not of the object id\r\n",
        "  return [obj_id in scene_info[frame_nb][\"trackables\"] for frame_nb in scene_info]\r\n"
      ],
      "execution_count": 15,
      "outputs": []
    },
    {
      "cell_type": "code",
      "metadata": {
        "id": "-gopbUuEIPzC",
        "colab": {
          "base_uri": "https://localhost:8080/",
          "height": 265
        },
        "outputId": "f378f1bc-3257-459f-9ec4-3ec27a0315dd"
      },
      "source": [
        "# in order to plot\r\n",
        "import matplotlib.pyplot as plt\r\n",
        "plt.plot(get_alive_object_by_frame(cache[0]));"
      ],
      "execution_count": 16,
      "outputs": [
        {
          "output_type": "display_data",
          "data": {
            "image/png": "[encoded data removed]",
            "text/plain": [
              "<Figure size 432x288 with 1 Axes>"
            ]
          },
          "metadata": {
            "tags": [],
            "needs_background": "light"
          }
        }
      ]
    },
    {
      "cell_type": "code",
      "metadata": {
        "id": "WX5qElHIJ7C-",
        "colab": {
          "base_uri": "https://localhost:8080/",
          "height": 283
        },
        "outputId": "2a667968-3390-488d-fc14-2832f1b498c5"
      },
      "source": [
        "# We can also get the life of one tracked object\r\n",
        "plt.plot(get_id_object_life(cache[0],0))"
      ],
      "execution_count": 17,
      "outputs": [
        {
          "output_type": "execute_result",
          "data": {
            "text/plain": [
              "[<matplotlib.lines.Line2D at 0x7fb69b64a940>]"
            ]
          },
          "metadata": {
            "tags": []
          },
          "execution_count": 17
        },
        {
          "output_type": "display_data",
          "data": {
            "image/png": "[encoded data removed]",
            "text/plain": [
              "<Figure size 432x288 with 1 Axes>"
            ]
          },
          "metadata": {
            "tags": [],
            "needs_background": "light"
          }
        }
      ]
    },
    {
      "cell_type": "code",
      "metadata": {
        "id": "HXx8KKCiKAvw"
      },
      "source": [
        "# To go further we would need an identifier. But with this we already can try to detect the moment where we have few confidence in our number of boxes \r\n",
        "# and set a threshold by scene. This is what will come for 0.4.4."
      ],
      "execution_count": 18,
      "outputs": []
    },
    {
      "cell_type": "code",
      "metadata": {
        "id": "lJZ9of-3xpi-",
        "outputId": "c3023669-a6cd-4808-8406-d267b2301475",
        "colab": {
          "base_uri": "https://localhost:8080/"
        }
      },
      "source": [
        "detector = lks.Detector(method=\"torchfrcnn\", target=\"person\")\r\n",
        "cache = capture.compute_stat(detector, 15, video_path=\"./temp_dl/frcnn_rt10.avi\",threshold_detect=0.8,cache=True)"
      ],
      "execution_count": 23,
      "outputs": [
        {
          "output_type": "stream",
          "text": [
            "100%|██████████| 1125/1125 [00:02<00:00, 422.50 frames /s]\n",
            "100%|██████████| 1125/1125 [00:00<00:00, 903944.83it/s]\n",
            "100%|██████████| 1125/1125 [07:27<00:00,  2.51 frames /s]\n",
            "  2%|▏         | 18/1125 [00:00<00:06, 177.52 frames /s]"
          ],
          "name": "stderr"
        },
        {
          "output_type": "stream",
          "text": [
            "./temp_dl/frcnn_rt10.avi\n"
          ],
          "name": "stdout"
        },
        {
          "output_type": "stream",
          "text": [
            "100%|██████████| 1125/1125 [00:05<00:00, 203.36 frames /s]\n"
          ],
          "name": "stderr"
        }
      ]
    },
    {
      "cell_type": "code",
      "metadata": {
        "id": "z7efBGv-bDvF",
        "colab": {
          "base_uri": "https://localhost:8080/"
        },
        "outputId": "27a1b6dd-007d-43c7-9537-a4b0a1bb0da8"
      },
      "source": [
        "# to reset the whole thing if a new version is available and notebook not updated.\r\n",
        "#%%capture \r\n",
        "%cd ..\r\n",
        "!rm -rf liankanstudio"
      ],
      "execution_count": null,
      "outputs": [
        {
          "output_type": "stream",
          "text": [
            "/content\n"
          ],
          "name": "stdout"
        }
      ]
    }
  ]
}