{
  "nbformat": 4,
  "nbformat_minor": 0,
  "metadata": {
    "colab": {
      "name": "liankan_cli_example.ipynb",
      "provenance": [],
      "collapsed_sections": [],
      "toc_visible": true,
      "authorship_tag": "ABX9TyMUMVHFdebend6a0tsJjClB",
      "include_colab_link": true
    },
    "kernelspec": {
      "name": "python3",
      "display_name": "Python 3"
    },
    "accelerator": "GPU"
  },
  "cells": [
    {
      "cell_type": "markdown",
      "metadata": {
        "id": "view-in-github",
        "colab_type": "text"
      },
      "source": [
        "<a href=\"https://colab.research.google.com/github/Ailianlian/liankanstudio/blob/master/liankan_py_example.ipynb\" target=\"_parent\"><img src=\"https://colab.research.google.com/assets/colab-badge.svg\" alt=\"Open In Colab\"/></a>"
      ]
    },
    {
      "cell_type": "markdown",
      "metadata": {
        "id": "ywRNabWf6_rZ"
      },
      "source": [
        "LianKanStudio Installation from Github.\r\n",
        "you can comment %%capture to see the cell output"
      ]
    },
    {
      "cell_type": "code",
      "metadata": {
        "id": "qoNM0a6eW-3P"
      },
      "source": [
        "%%capture\r\n",
        "!git clone https://github.com/Ailianlian/liankanstudio.git;"
      ],
      "execution_count": 39,
      "outputs": []
    },
    {
      "cell_type": "code",
      "metadata": {
        "id": "nbgeEv9oXF2g"
      },
      "source": [
        "%%capture\r\n",
        "%cd liankanstudio"
      ],
      "execution_count": 40,
      "outputs": []
    },
    {
      "cell_type": "code",
      "metadata": {
        "id": "h9PzWLo5XH9T"
      },
      "source": [
        "%%capture\r\n",
        "!pip install -r requirments.txt"
      ],
      "execution_count": 41,
      "outputs": []
    },
    {
      "cell_type": "code",
      "metadata": {
        "id": "AP5LjzpTXKEZ"
      },
      "source": [
        "# If you need restart after previous cell then execute, if not let the comment \r\n",
        "# %%capture\r\n",
        "# %cd liankanstudio"
      ],
      "execution_count": 42,
      "outputs": []
    },
    {
      "cell_type": "code",
      "metadata": {
        "id": "pay2kaoXXgI6"
      },
      "source": [
        "%%capture\r\n",
        "!python setup.py bdist_wheel"
      ],
      "execution_count": 43,
      "outputs": []
    },
    {
      "cell_type": "code",
      "metadata": {
        "id": "NHxKSElQX2vD"
      },
      "source": [
        "%%capture\r\n",
        "!pip install dist/liankanstudio-0.4.2.2-py3-none-any.whl"
      ],
      "execution_count": 44,
      "outputs": []
    },
    {
      "cell_type": "code",
      "metadata": {
        "colab": {
          "base_uri": "https://localhost:8080/"
        },
        "id": "gqyDUCRsYLe3",
        "outputId": "642e704c-2832-4062-8808-98600eb4702e"
      },
      "source": [
        "# check you have torch cuda support. Enable it if you want (but there is really no reason to not do it.)\r\n",
        "import torch\r\n",
        "torch.cuda.is_available()"
      ],
      "execution_count": 45,
      "outputs": [
        {
          "output_type": "execute_result",
          "data": {
            "text/plain": [
              "True"
            ]
          },
          "metadata": {
            "tags": []
          },
          "execution_count": 45
        }
      ]
    },
    {
      "cell_type": "code",
      "metadata": {
        "id": "FbcO9KXpYfp3"
      },
      "source": [
        "import liankanstudio as lks"
      ],
      "execution_count": 46,
      "outputs": []
    },
    {
      "cell_type": "code",
      "metadata": {
        "id": "T7fk-Fq-aQUP"
      },
      "source": [
        "from liankanstudio.util.yt_util import download, parse_url"
      ],
      "execution_count": 47,
      "outputs": []
    },
    {
      "cell_type": "code",
      "metadata": {
        "colab": {
          "base_uri": "https://localhost:8080/"
        },
        "id": "X6p_8u2yaXrW",
        "outputId": "9d4e533f-4769-4c05-afea-6225cb879ffc"
      },
      "source": [
        "# Takes a video, here is MISS DIOR – The new Eau de Parfum. Why not.\r\n",
        "video_path, _ = download(parse_url(\"https://www.youtube.com/watch?v=h4s0llOpKrU\"),'./temp_dl',\"dior\")"
      ],
      "execution_count": 48,
      "outputs": [
        {
          "output_type": "stream",
          "text": [
            "The directory is not present. Creating a new one..\n"
          ],
          "name": "stdout"
        }
      ]
    },
    {
      "cell_type": "code",
      "metadata": {
        "id": "tP-nI9l0ARsK"
      },
      "source": [
        "# We can open a Capture.\r\n",
        "capture = lks.Capture(video_path)"
      ],
      "execution_count": 49,
      "outputs": []
    },
    {
      "cell_type": "code",
      "metadata": {
        "id": "v13ua3R8AaBz",
        "outputId": "cf4d2522-d2fa-4899-8a37-0cc5b877993a",
        "colab": {
          "base_uri": "https://localhost:8080/"
        }
      },
      "source": [
        "# Compute the scenes via a threshold method. This is used to know when we have to detect.\r\n",
        "capture.find_scenes()"
      ],
      "execution_count": 50,
      "outputs": [
        {
          "output_type": "stream",
          "text": [
            "100%|██████████| 1125/1125 [00:03<00:00, 344.47frames/s]\n"
          ],
          "name": "stderr"
        },
        {
          "output_type": "stream",
          "text": [
            "Writing 1124 frames to CSV...\n"
          ],
          "name": "stdout"
        }
      ]
    },
    {
      "cell_type": "code",
      "metadata": {
        "colab": {
          "base_uri": "https://localhost:8080/"
        },
        "id": "nC1KjyKjatym",
        "outputId": "65cfc813-a3f0-43ac-dd02-ba2b0d39d026"
      },
      "source": [
        "# Here we create a detector with keypoint rcnn with resnet 50 as backbone, the one from torchvision models.\r\n",
        "# detector = lks.Detector(method=\"torchkrcnn\", target=\"person\")\r\n",
        "# The target can be any classes of lks.detector.COCO_INSTANCE_CATEGORY_NAMES\r\n",
        "# you can use method=\"ssd\"\r\n",
        "# With the method=\"yolo\" you can download the weights and cfg from https://pjreddie.com/darknet/yolo/ , the default is tiny.\r\n",
        "# detector = lks.Detector(method=\"yolo\", target=\"person\", proto_path=\"truc.cfg\", weights=\"truc.weights\", size=500, classes=PERSONNAL_CLASSES_LIST)\r\n",
        "# detector = lks.Detector(method=\"yolo\", target=\"person\")\r\n",
        "# For the method ssd we use a ssd with mobilenet backbone. You can also change the location of weights with caffemodel.\r\n",
        "# To go fast\r\n",
        "detector = lks.Detector(method=\"ssd\", target=\"person\")"
      ],
      "execution_count": 52,
      "outputs": [
        {
          "output_type": "stream",
          "text": [
            "/usr/local/lib/python3.6/dist-packages/liankanstudio/data/ssd/ssd_deploy.prototxt\n"
          ],
          "name": "stdout"
        }
      ]
    },
    {
      "cell_type": "code",
      "metadata": {
        "id": "9OVrBOXrF3YH",
        "outputId": "3a29e064-1470-47ef-d125-81e00a21ebcb",
        "colab": {
          "base_uri": "https://localhost:8080/"
        }
      },
      "source": [
        "cache = capture.compute_stat(detector, 10, video_path=\"./temp_dl/ssd_rt10.avi\",threshold_detect=0.25,cache=True) # 10fps since cpu for ssd :(, use frcnn with gpu"
      ],
      "execution_count": 53,
      "outputs": [
        {
          "output_type": "stream",
          "text": [
            "100%|██████████| 1125/1125 [00:02<00:00, 383.86 frames /s]\n",
            "100%|██████████| 1125/1125 [00:00<00:00, 1057506.05it/s]\n",
            "100%|██████████| 1125/1125 [01:42<00:00, 10.98 frames /s]\n",
            "  2%|▏         | 19/1125 [00:00<00:05, 184.88 frames /s]"
          ],
          "name": "stderr"
        },
        {
          "output_type": "stream",
          "text": [
            "./temp_dl/ssd_rt10.avi\n"
          ],
          "name": "stdout"
        },
        {
          "output_type": "stream",
          "text": [
            "100%|██████████| 1125/1125 [00:05<00:00, 200.34 frames /s]\n"
          ],
          "name": "stderr"
        }
      ]
    },
    {
      "cell_type": "code",
      "metadata": {
        "id": "h4vYs3JzHnUj"
      },
      "source": [
        "# The purpose of cache is to help to do a warmup in the future.\r\n",
        "# for example we can look cache[0]\r\n",
        "# len(cache) =number of scene we have detected\r\n",
        "# cache[0] is a dictionnary giving for each frame all the boxes detected, if there is a detection, the confidence, the labels and the tracking\r\n",
        "# for example we can do the function\r\n",
        "def get_alive_object_by_frame(scene_info):\r\n",
        "  return [len(scene_info[frame_nb][\"trackables\"]) for frame_nb in scene_info]\r\n",
        "def get_id_object_life(scene_info, obj_id):\r\n",
        "  # return the presence or not of the object id\r\n",
        "  return [obj_id in scene_info[frame_nb][\"trackables\"] for frame_nb in scene_info]\r\n"
      ],
      "execution_count": 75,
      "outputs": []
    },
    {
      "cell_type": "code",
      "metadata": {
        "id": "-gopbUuEIPzC",
        "outputId": "ea5042a2-f86a-4c30-cdd3-ddd017714984",
        "colab": {
          "base_uri": "https://localhost:8080/",
          "height": 265
        }
      },
      "source": [
        "# in order to plot\r\n",
        "import matplotlib.pyplot as plt\r\n",
        "plt.plot(get_alive_object_by_frame(cache[0]));"
      ],
      "execution_count": 76,
      "outputs": [
        {
          "output_type": "display_data",
          "data": {
            "image/png": "[encoded data removed]",
            "text/plain": [
              "<Figure size 432x288 with 1 Axes>"
            ]
          },
          "metadata": {
            "tags": [],
            "needs_background": "light"
          }
        }
      ]
    },
    {
      "cell_type": "code",
      "metadata": {
        "id": "WX5qElHIJ7C-",
        "outputId": "f0a941c4-b049-471c-ec4f-7a3a8f6158ce",
        "colab": {
          "base_uri": "https://localhost:8080/",
          "height": 283
        }
      },
      "source": [
        "# We can also get the life of one tracked object\r\n",
        "plt.plot(get_id_object_life(cache[0],0))"
      ],
      "execution_count": 77,
      "outputs": [
        {
          "output_type": "execute_result",
          "data": {
            "text/plain": [
              "[<matplotlib.lines.Line2D at 0x7fe001ae04a8>]"
            ]
          },
          "metadata": {
            "tags": []
          },
          "execution_count": 77
        },
        {
          "output_type": "display_data",
          "data": {
            "image/png": "[encoded data removed]",
            "text/plain": [
              "<Figure size 432x288 with 1 Axes>"
            ]
          },
          "metadata": {
            "tags": [],
            "needs_background": "light"
          }
        }
      ]
    },
    {
      "cell_type": "code",
      "metadata": {
        "id": "HXx8KKCiKAvw"
      },
      "source": [
        "# To go further we would need an identifier. But with this we already can try to detect the moment where we have few confidence in our number of boxes \r\n",
        "# and set a threshold by scene. This is what will come for 0.4.4."
      ],
      "execution_count": null,
      "outputs": []
    },
    {
      "cell_type": "code",
      "metadata": {
        "id": "z7efBGv-bDvF",
        "outputId": "27a1b6dd-007d-43c7-9537-a4b0a1bb0da8",
        "colab": {
          "base_uri": "https://localhost:8080/"
        }
      },
      "source": [
        "# to reset the whole thing if a new version is available and notebook not updated.\r\n",
        "#%%capture \r\n",
        "%cd ..\r\n",
        "!rm -rf liankanstudio"
      ],
      "execution_count": 38,
      "outputs": [
        {
          "output_type": "stream",
          "text": [
            "/content\n"
          ],
          "name": "stdout"
        }
      ]
    }
  ]
}