{
  "nbformat": 4,
  "nbformat_minor": 0,
  "metadata": {
    "colab": {
      "name": "liankan_cli_example.ipynb",
      "provenance": [],
      "collapsed_sections": [],
      "toc_visible": true,
      "authorship_tag": "ABX9TyP4l46qpSCz5+iay5PVzO3/",
      "include_colab_link": true
    },
    "kernelspec": {
      "name": "python3",
      "display_name": "Python 3"
    },
    "accelerator": "GPU"
  },
  "cells": [
    {
      "cell_type": "markdown",
      "metadata": {
        "id": "view-in-github",
        "colab_type": "text"
      },
      "source": [
        "<a href=\"https://colab.research.google.com/github/Ailianlian/liankanstudio/blob/master/liankan_cli_example.ipynb\" target=\"_parent\"><img src=\"https://colab.research.google.com/assets/colab-badge.svg\" alt=\"Open In Colab\"/></a>"
      ]
    },
    {
      "cell_type": "markdown",
      "metadata": {
        "id": "ywRNabWf6_rZ"
      },
      "source": [
        "LianKanStudio Installation from Github.\r\n",
        "you can comment %%capture to see the cell output"
      ]
    },
    {
      "cell_type": "code",
      "metadata": {
        "id": "qoNM0a6eW-3P"
      },
      "source": [
        "%%capture\r\n",
        "!git clone https://github.com/Ailianlian/liankanstudio.git;"
      ],
      "execution_count": 1,
      "outputs": []
    },
    {
      "cell_type": "code",
      "metadata": {
        "id": "nbgeEv9oXF2g"
      },
      "source": [
        "%%capture\r\n",
        "%cd liankanstudio"
      ],
      "execution_count": 2,
      "outputs": []
    },
    {
      "cell_type": "code",
      "metadata": {
        "id": "h9PzWLo5XH9T"
      },
      "source": [
        "%%capture\r\n",
        "!pip install -r requirments.txt"
      ],
      "execution_count": 3,
      "outputs": []
    },
    {
      "cell_type": "code",
      "metadata": {
        "id": "AP5LjzpTXKEZ"
      },
      "source": [
        "# If you need restart after previous cell then execute, if not let the comment \r\n",
        "# %%capture\r\n",
        "# %cd liankanstudio"
      ],
      "execution_count": 4,
      "outputs": []
    },
    {
      "cell_type": "code",
      "metadata": {
        "id": "pay2kaoXXgI6"
      },
      "source": [
        "%%capture\r\n",
        "!python setup.py bdist_wheel"
      ],
      "execution_count": 5,
      "outputs": []
    },
    {
      "cell_type": "code",
      "metadata": {
        "id": "NHxKSElQX2vD"
      },
      "source": [
        "%%capture\r\n",
        "!pip install dist/liankanstudio-0.4.3.5-py3-none-any.whl"
      ],
      "execution_count": 6,
      "outputs": []
    },
    {
      "cell_type": "code",
      "metadata": {
        "colab": {
          "base_uri": "https://localhost:8080/"
        },
        "id": "gqyDUCRsYLe3",
        "outputId": "2ae67d10-615e-4b28-eb02-03c8d2c4b7d4"
      },
      "source": [
        "# check you have torch cuda support. Enable it if you want (but there is really no reason to not do it.)\r\n",
        "import torch\r\n",
        "torch.cuda.is_available()"
      ],
      "execution_count": 7,
      "outputs": [
        {
          "output_type": "execute_result",
          "data": {
            "text/plain": [
              "True"
            ]
          },
          "metadata": {
            "tags": []
          },
          "execution_count": 7
        }
      ]
    },
    {
      "cell_type": "code",
      "metadata": {
        "id": "FbcO9KXpYfp3"
      },
      "source": [
        "# Just to know\r\n",
        "# %%capture\r\n",
        "# !nvidia-smi"
      ],
      "execution_count": 8,
      "outputs": []
    },
    {
      "cell_type": "code",
      "metadata": {
        "id": "T7fk-Fq-aQUP"
      },
      "source": [
        "# Uncomment if you feel it is useful.\r\n",
        "#!liankan dl --help"
      ],
      "execution_count": 9,
      "outputs": []
    },
    {
      "cell_type": "code",
      "metadata": {
        "colab": {
          "base_uri": "https://localhost:8080/"
        },
        "id": "X6p_8u2yaXrW",
        "outputId": "1651f0fd-d8a6-4357-fa8a-8635964b9732"
      },
      "source": [
        "# Takes a video, here is MISS DIOR – The new Eau de Parfum. Why not.\r\n",
        "!liankan dl --url \"https://www.youtube.com/watch?v=h4s0llOpKrU\" ./temp_dl/dior.mp4 --res=480p"
      ],
      "execution_count": 10,
      "outputs": [
        {
          "output_type": "stream",
          "text": [
            "The directory is not present. Creating a new one..\n"
          ],
          "name": "stdout"
        }
      ]
    },
    {
      "cell_type": "code",
      "metadata": {
        "colab": {
          "base_uri": "https://localhost:8080/"
        },
        "id": "nC1KjyKjatym",
        "outputId": "f5069250-3ef7-4e09-ab96-205ea5b38b36"
      },
      "source": [
        "# Here we use a keypoint rcnn with resnet 50 as backbone, the one from torchvision models.\r\n",
        "# WARNING : --no-look is important here. Colab does not support the cv2 window.\r\n",
        "# The output format must be API (because of codec used in the liankanstudio module)\r\n",
        "# cache should help for a war restart and let you do analyse (after 0.4.4)\r\n",
        "# WARNING yolo method does not work since weights are not here. You can download them from https://pjreddie.com/darknet/yolo/ but you need to use the python package. \r\n",
        "!liankan detect --method=\"torchmrcnn\" --rate=5 --thresh=0.8 --no-look --cache ./temp_dl/dior.mp4 ./temp_dl/mrcnn_r1_t4.avi"
      ],
      "execution_count": 13,
      "outputs": [
        {
          "output_type": "stream",
          "text": [
            "100% 1125/1125 [00:01<00:00, 755.60frames/s]\n",
            "100% 1125/1125 [00:02<00:00, 408.67 frames /s]\n",
            "100% 1125/1125 [00:00<00:00, 1315837.14it/s]\n",
            "100% 1125/1125 [02:35<00:00,  7.23 frames /s]\n",
            "./temp_dl/mrcnn_r1_t4.avi\n",
            "100% 1125/1125 [00:05<00:00, 202.71 frames /s]\n"
          ],
          "name": "stdout"
        }
      ]
    },
    {
      "cell_type": "code",
      "metadata": {
        "id": "eXxYcZBRAc5M",
        "outputId": "80692b90-6af6-4ebd-b83d-aeb65e2b38b6",
        "colab": {
          "base_uri": "https://localhost:8080/"
        }
      },
      "source": [
        "!liankan detect --method=\"ssd\" --rate=5 --thresh=0.25 --no-look --cache ./temp_dl/dior.mp4 ./temp_dl/ssd_r1_t4.avi"
      ],
      "execution_count": 15,
      "outputs": [
        {
          "output_type": "stream",
          "text": [
            "100% 1125/1125 [00:01<00:00, 750.72frames/s]\n",
            "/usr/local/lib/python3.6/dist-packages/liankanstudio/data/ssd/ssd_deploy.prototxt\n",
            "100% 1125/1125 [00:02<00:00, 420.67 frames /s]\n",
            "100% 1125/1125 [00:00<00:00, 1572864.00it/s]\n",
            "100% 1125/1125 [01:40<00:00, 11.21 frames /s]\n",
            "./temp_dl/ssd_r1_t4.avi\n",
            "100% 1125/1125 [00:04<00:00, 230.63 frames /s]\n"
          ],
          "name": "stdout"
        }
      ]
    },
    {
      "cell_type": "code",
      "metadata": {
        "id": "z7efBGv-bDvF"
      },
      "source": [
        "# to reset the whole thing if a new version is available and notebook not updated.\r\n",
        "# %%capture \r\n",
        "# %cd ..\r\n",
        "# !rm -rf liankanstudio"
      ],
      "execution_count": 14,
      "outputs": []
    },
    {
      "cell_type": "code",
      "metadata": {
        "colab": {
          "base_uri": "https://localhost:8080/"
        },
        "id": "1mm58sTvcxmS",
        "outputId": "c21afe2d-0bf9-4833-c558-945218e87cbd"
      },
      "source": [
        "# You can try other detection, with other threshold <thresh> and other target (at least for torch, yolo and ssd).\r\n",
        "# human is not supported here and haar does not have the classes of COCO.\r\n",
        "!liankan detect --method=\"human\" --rate=1 --no-look ./temp_dl/dior.mp4 ./useless.avi"
      ],
      "execution_count": null,
      "outputs": [
        {
          "output_type": "stream",
          "text": [
            "100% 1125/1125 [00:00<00:00, 4880.76frames/s]\n",
            "100% 1125/1125 [00:00<00:00, 3528.57 frames /s]\n",
            "100% 1125/1125 [00:00<00:00, 1112875.47it/s]\n",
            "  0% 0/1125 [00:00<?, ? frames /s]Finish the selection process by pressing ESC button!\n",
            "Select a ROI and then press SPACE or ENTER button!\n",
            "Cancel the selection process by pressing c button!\n",
            "qt.qpa.xcb: could not connect to display \n",
            "qt.qpa.plugin: Could not load the Qt platform plugin \"xcb\" in \"/usr/local/lib/python3.6/dist-packages/cv2/qt/plugins\" even though it was found.\n",
            "This application failed to start because no Qt platform plugin could be initialized. Reinstalling the application may fix this problem.\n",
            "\n",
            "Available platform plugins are: xcb.\n",
            "\n"
          ],
          "name": "stdout"
        }
      ]
    }
  ]
}