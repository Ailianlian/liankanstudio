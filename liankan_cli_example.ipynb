{
  "nbformat": 4,
  "nbformat_minor": 0,
  "metadata": {
    "colab": {
      "name": "liankan_cli_example.ipynb",
      "provenance": [],
      "collapsed_sections": [],
      "toc_visible": true,
      "authorship_tag": "ABX9TyOKJu9MA6z54rZ169pb/tgO",
      "include_colab_link": true
    },
    "kernelspec": {
      "name": "python3",
      "display_name": "Python 3"
    },
    "accelerator": "GPU"
  },
  "cells": [
    {
      "cell_type": "markdown",
      "metadata": {
        "id": "view-in-github",
        "colab_type": "text"
      },
      "source": [
        "<a href=\"https://colab.research.google.com/github/Ailianlian/liankanstudio/blob/master/liankan_cli_example.ipynb\" target=\"_parent\"><img src=\"https://colab.research.google.com/assets/colab-badge.svg\" alt=\"Open In Colab\"/></a>"
      ]
    },
    {
      "cell_type": "markdown",
      "metadata": {
        "id": "ywRNabWf6_rZ"
      },
      "source": [
        "LianKanStudio Installation from Github.\r\n",
        "you can comment %%capture to see the cell output"
      ]
    },
    {
      "cell_type": "code",
      "metadata": {
        "id": "qoNM0a6eW-3P"
      },
      "source": [
        "%%capture\r\n",
        "!git clone https://github.com/Ailianlian/liankanstudio.git;"
      ],
      "execution_count": 1,
      "outputs": []
    },
    {
      "cell_type": "code",
      "metadata": {
        "id": "nbgeEv9oXF2g"
      },
      "source": [
        "%%capture\r\n",
        "%cd liankanstudio"
      ],
      "execution_count": 2,
      "outputs": []
    },
    {
      "cell_type": "code",
      "metadata": {
        "id": "h9PzWLo5XH9T"
      },
      "source": [
        "%%capture\r\n",
        "!pip install -r requirments.txt"
      ],
      "execution_count": 3,
      "outputs": []
    },
    {
      "cell_type": "code",
      "metadata": {
        "id": "AP5LjzpTXKEZ"
      },
      "source": [
        "# If you need restart after previous cell then execute, if not let the comment \r\n",
        "# %%capture\r\n",
        "# %cd liankanstudio"
      ],
      "execution_count": 4,
      "outputs": []
    },
    {
      "cell_type": "code",
      "metadata": {
        "id": "pay2kaoXXgI6"
      },
      "source": [
        "%%capture\r\n",
        "!python setup.py bdist_wheel"
      ],
      "execution_count": 5,
      "outputs": []
    },
    {
      "cell_type": "code",
      "metadata": {
        "id": "NHxKSElQX2vD"
      },
      "source": [
        "%%capture\r\n",
        "!pip install dist/liankanstudio-0.4.3.1-py3-none-any.whl"
      ],
      "execution_count": 12,
      "outputs": []
    },
    {
      "cell_type": "code",
      "metadata": {
        "colab": {
          "base_uri": "https://localhost:8080/"
        },
        "id": "gqyDUCRsYLe3",
        "outputId": "06966df4-d47a-4cf1-92b9-89ce541c2f86"
      },
      "source": [
        "# check you have torch cuda support. Enable it if you want (but there is really no reason to not do it.)\r\n",
        "import torch\r\n",
        "torch.cuda.is_available()"
      ],
      "execution_count": 13,
      "outputs": [
        {
          "output_type": "execute_result",
          "data": {
            "text/plain": [
              "True"
            ]
          },
          "metadata": {
            "tags": []
          },
          "execution_count": 13
        }
      ]
    },
    {
      "cell_type": "code",
      "metadata": {
        "id": "FbcO9KXpYfp3"
      },
      "source": [
        "# Just to know\r\n",
        "# %%capture\r\n",
        "# !nvidia-smi"
      ],
      "execution_count": 14,
      "outputs": []
    },
    {
      "cell_type": "code",
      "metadata": {
        "id": "T7fk-Fq-aQUP",
        "outputId": "112e184d-4435-4f60-8f8c-ce1c0d569454",
        "colab": {
          "base_uri": "https://localhost:8080/"
        }
      },
      "source": [
        "# Uncomment if you feel it is useful.\r\n",
        "#!liankan dl --help"
      ],
      "execution_count": 18,
      "outputs": [
        {
          "output_type": "stream",
          "text": [
            "Usage: liankan dl [OPTIONS] VIDEO_INPUT\n",
            "                  VIDEO_OUTPUT\n",
            "\n",
            "  Download the video_input into video_output\n",
            "\n",
            "  Args\n",
            "\n",
            "  ----\n",
            "\n",
            "  video_input : url or video_id depending on url\n",
            "  option\n",
            "\n",
            "  video_output: output_path of the video\n",
            "\n",
            "Options:\n",
            "  --url / --no-url  Tells if this is or not a url.\n",
            "                    No means this is a video_id\n",
            "\n",
            "  --res TEXT        Resolution, can be 140p, 240p,\n",
            "                    480p, 720p\n",
            "\n",
            "  --help            Show this message and exit.\n"
          ],
          "name": "stdout"
        }
      ]
    },
    {
      "cell_type": "code",
      "metadata": {
        "colab": {
          "base_uri": "https://localhost:8080/"
        },
        "id": "X6p_8u2yaXrW",
        "outputId": "9698b8f8-a0c3-4e50-bf64-1ad834907b8b"
      },
      "source": [
        "# Takes a video, here is MISS DIOR – The new Eau de Parfum. Why not.\r\n",
        "!liankan dl --url \"https://www.youtube.com/watch?v=h4s0llOpKrU\" ./temp_dl/dior.mp4 --res=480p"
      ],
      "execution_count": 19,
      "outputs": [
        {
          "output_type": "stream",
          "text": [
            "The directory is present.\n"
          ],
          "name": "stdout"
        }
      ]
    },
    {
      "cell_type": "code",
      "metadata": {
        "colab": {
          "base_uri": "https://localhost:8080/"
        },
        "id": "nC1KjyKjatym",
        "outputId": "ceb886b5-287e-43d9-c830-4cd71004ddd4"
      },
      "source": [
        "# Here we use a keypoint rcnn with resnet 50 as backbone, the one from torchvision models.\r\n",
        "# WARNING : --no-look is important here. Colab does not support the cv2 window.\r\n",
        "# The output format must be API (because of codec used in the liankanstudio module)\r\n",
        "# cache should help for a war restart and let you do analyse (after 0.4.4)\r\n",
        "# WARNING yolo method does not work since weights are not here. You can download them from https://pjreddie.com/darknet/yolo/ but you need to use the python package. \r\n",
        "!liankan detect --method=\"torchmrcnn\" --rate=5 --thresh=0.9 --no-look --cache ./temp_dl/dior.mp4 ./temp_dl/mrcnn_r1_t4.avi"
      ],
      "execution_count": 21,
      "outputs": [
        {
          "output_type": "stream",
          "text": [
            "100% 1125/1125 [00:01<00:00, 712.99frames/s]\n",
            "100% 1125/1125 [00:02<00:00, 414.88 frames /s]\n",
            "100% 1125/1125 [00:00<00:00, 1513339.32it/s]\n",
            "100% 1125/1125 [09:29<00:00,  1.97 frames /s]\n",
            "./temp_dl/mrcnn_r1_t4.avi\n",
            "100% 1125/1125 [00:05<00:00, 192.63 frames /s]\n"
          ],
          "name": "stdout"
        }
      ]
    },
    {
      "cell_type": "code",
      "metadata": {
        "id": "z7efBGv-bDvF"
      },
      "source": [
        "# to reset the whole thing if a new version is available and notebook not updated.\r\n",
        "# %%capture \r\n",
        "# %cd ..\r\n",
        "# !rm -rf liankanstudio"
      ],
      "execution_count": null,
      "outputs": []
    },
    {
      "cell_type": "code",
      "metadata": {
        "colab": {
          "base_uri": "https://localhost:8080/"
        },
        "id": "1mm58sTvcxmS",
        "outputId": "c21afe2d-0bf9-4833-c558-945218e87cbd"
      },
      "source": [
        "# You can try other detection, with other threshold <thresh> and other target (at least for torch, yolo and ssd).\r\n",
        "# human is not supported here and haar does not have the classes of COCO.\r\n",
        "!liankan detect --method=\"human\" --rate=1 --no-look ./temp_dl/dior.mp4 ./useless.avi"
      ],
      "execution_count": null,
      "outputs": [
        {
          "output_type": "stream",
          "text": [
            "100% 1125/1125 [00:00<00:00, 4880.76frames/s]\n",
            "100% 1125/1125 [00:00<00:00, 3528.57 frames /s]\n",
            "100% 1125/1125 [00:00<00:00, 1112875.47it/s]\n",
            "  0% 0/1125 [00:00<?, ? frames /s]Finish the selection process by pressing ESC button!\n",
            "Select a ROI and then press SPACE or ENTER button!\n",
            "Cancel the selection process by pressing c button!\n",
            "qt.qpa.xcb: could not connect to display \n",
            "qt.qpa.plugin: Could not load the Qt platform plugin \"xcb\" in \"/usr/local/lib/python3.6/dist-packages/cv2/qt/plugins\" even though it was found.\n",
            "This application failed to start because no Qt platform plugin could be initialized. Reinstalling the application may fix this problem.\n",
            "\n",
            "Available platform plugins are: xcb.\n",
            "\n"
          ],
          "name": "stdout"
        }
      ]
    }
  ]
}