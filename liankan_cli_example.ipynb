{
  "nbformat": 4,
  "nbformat_minor": 0,
  "metadata": {
    "colab": {
      "name": "liankan_cli_example.ipynb",
      "provenance": [],
      "collapsed_sections": [],
      "authorship_tag": "ABX9TyMzi4mmOgHRn5Wt1SmDDKRB",
      "include_colab_link": true
    },
    "kernelspec": {
      "name": "python3",
      "display_name": "Python 3"
    },
    "accelerator": "GPU"
  },
  "cells": [
    {
      "cell_type": "markdown",
      "metadata": {
        "id": "view-in-github",
        "colab_type": "text"
      },
      "source": [
        "<a href=\"https://colab.research.google.com/github/Ailianlian/liankanstudio/blob/master/liankan_cli_example.ipynb\" target=\"_parent\"><img src=\"https://colab.research.google.com/assets/colab-badge.svg\" alt=\"Open In Colab\"/></a>"
      ]
    },
    {
      "cell_type": "code",
      "metadata": {
        "id": "qoNM0a6eW-3P"
      },
      "source": [
        "%%capture\r\n",
        "!git clone https://github.com/Ailianlian/liankanstudio.git;"
      ],
      "execution_count": 125,
      "outputs": []
    },
    {
      "cell_type": "code",
      "metadata": {
        "id": "nbgeEv9oXF2g"
      },
      "source": [
        "%%capture\r\n",
        "%cd liankanstudio"
      ],
      "execution_count": 126,
      "outputs": []
    },
    {
      "cell_type": "code",
      "metadata": {
        "id": "h9PzWLo5XH9T"
      },
      "source": [
        "%%capture\r\n",
        "!pip install -r requirments.txt"
      ],
      "execution_count": 127,
      "outputs": []
    },
    {
      "cell_type": "code",
      "metadata": {
        "id": "AP5LjzpTXKEZ"
      },
      "source": [
        "# If you need restart then execute, if not let the comment \r\n",
        "# %%capture\r\n",
        "# %cd liankanstudio"
      ],
      "execution_count": 118,
      "outputs": []
    },
    {
      "cell_type": "code",
      "metadata": {
        "id": "pay2kaoXXgI6"
      },
      "source": [
        "%%capture\r\n",
        "!python setup.py bdist_wheel"
      ],
      "execution_count": 119,
      "outputs": []
    },
    {
      "cell_type": "code",
      "metadata": {
        "id": "NHxKSElQX2vD"
      },
      "source": [
        "%%capture\r\n",
        "!pip install dist/liankanstudio-0.4.0.15-py3-none-any.whl"
      ],
      "execution_count": 121,
      "outputs": []
    },
    {
      "cell_type": "code",
      "metadata": {
        "colab": {
          "base_uri": "https://localhost:8080/"
        },
        "id": "gqyDUCRsYLe3",
        "outputId": "22c2995a-444c-4c5b-81e6-ba71b357d8bd"
      },
      "source": [
        "# check you have torch and tensorflow cuda support. Enable it in\r\n",
        "import torch\r\n",
        "torch.cuda.is_available()"
      ],
      "execution_count": 106,
      "outputs": [
        {
          "output_type": "execute_result",
          "data": {
            "text/plain": [
              "True"
            ]
          },
          "metadata": {
            "tags": []
          },
          "execution_count": 106
        }
      ]
    },
    {
      "cell_type": "code",
      "metadata": {
        "colab": {
          "base_uri": "https://localhost:8080/"
        },
        "id": "Zmr6IU7EYSZf",
        "outputId": "79698283-f83b-43df-d3ab-82dcef113c27"
      },
      "source": [
        "import tensorflow as tf\r\n",
        "tf.config.list_physical_devices('GPU')"
      ],
      "execution_count": 107,
      "outputs": [
        {
          "output_type": "execute_result",
          "data": {
            "text/plain": [
              "[PhysicalDevice(name='/physical_device:GPU:0', device_type='GPU')]"
            ]
          },
          "metadata": {
            "tags": []
          },
          "execution_count": 107
        }
      ]
    },
    {
      "cell_type": "code",
      "metadata": {
        "colab": {
          "base_uri": "https://localhost:8080/"
        },
        "id": "FbcO9KXpYfp3",
        "outputId": "cbdf403f-0d6d-4bb5-fe65-2dac02262e36"
      },
      "source": [
        "!nvidia-smi"
      ],
      "execution_count": 108,
      "outputs": [
        {
          "output_type": "stream",
          "text": [
            "Tue Jan 12 21:55:43 2021       \n",
            "+-----------------------------------------------------------------------------+\n",
            "| NVIDIA-SMI 460.27.04    Driver Version: 418.67       CUDA Version: 10.1     |\n",
            "|-------------------------------+----------------------+----------------------+\n",
            "| GPU  Name        Persistence-M| Bus-Id        Disp.A | Volatile Uncorr. ECC |\n",
            "| Fan  Temp  Perf  Pwr:Usage/Cap|         Memory-Usage | GPU-Util  Compute M. |\n",
            "|                               |                      |               MIG M. |\n",
            "|===============================+======================+======================|\n",
            "|   0  Tesla P4            Off  | 00000000:00:04.0 Off |                    0 |\n",
            "| N/A   34C    P8     7W /  75W |     10MiB /  7611MiB |      0%      Default |\n",
            "|                               |                      |                 ERR! |\n",
            "+-------------------------------+----------------------+----------------------+\n",
            "                                                                               \n",
            "+-----------------------------------------------------------------------------+\n",
            "| Processes:                                                                  |\n",
            "|  GPU   GI   CI        PID   Type   Process name                  GPU Memory |\n",
            "|        ID   ID                                                   Usage      |\n",
            "|=============================================================================|\n",
            "|  No running processes found                                                 |\n",
            "+-----------------------------------------------------------------------------+\n"
          ],
          "name": "stdout"
        }
      ]
    },
    {
      "cell_type": "code",
      "metadata": {
        "colab": {
          "base_uri": "https://localhost:8080/"
        },
        "id": "T7fk-Fq-aQUP",
        "outputId": "824a36de-9583-4a7f-d450-860fc159b7e0"
      },
      "source": [
        "!liankan dl --help"
      ],
      "execution_count": 109,
      "outputs": [
        {
          "output_type": "stream",
          "text": [
            "Usage: liankan dl [OPTIONS] VIDEO_INPUT\n",
            "                  VIDEO_OUTPUT\n",
            "\n",
            "  Download the video_input into video_output\n",
            "\n",
            "  Args\n",
            "\n",
            "  ----\n",
            "\n",
            "  video_input : url or video_id depending on url\n",
            "  option\n",
            "\n",
            "  video_output: output_path of the video\n",
            "\n",
            "Options:\n",
            "  --url / --no-url  Tells if this is or not a url.\n",
            "                    No means this is a video_id\n",
            "\n",
            "  --res TEXT        Resolution, can be 140p, 240p,\n",
            "                    480p, 720p\n",
            "\n",
            "  --help            Show this message and exit.\n"
          ],
          "name": "stdout"
        }
      ]
    },
    {
      "cell_type": "code",
      "metadata": {
        "colab": {
          "base_uri": "https://localhost:8080/"
        },
        "id": "X6p_8u2yaXrW",
        "outputId": "3111ded2-ae47-4e78-c3d5-c670d9973ee1"
      },
      "source": [
        "!liankan dl --url \"https://www.youtube.com/watch?v=ZNEyf7pWeM4\" ./orange.mp4"
      ],
      "execution_count": 110,
      "outputs": [
        {
          "output_type": "stream",
          "text": [
            "The directory is present.\n"
          ],
          "name": "stdout"
        }
      ]
    },
    {
      "cell_type": "code",
      "metadata": {
        "colab": {
          "base_uri": "https://localhost:8080/"
        },
        "id": "nC1KjyKjatym",
        "outputId": "0ac4050f-09e0-4988-fec7-435e5623d9e1"
      },
      "source": [
        "!liankan detect --method=\"torchkrcnn\" --rate=1 --no-look ./orange.mp4 ./orange.avi"
      ],
      "execution_count": 112,
      "outputs": [
        {
          "output_type": "stream",
          "text": [
            "100% 1500/1500 [00:00<00:00, 6358.67frames/s]\n",
            "100% 1500/1500 [00:00<00:00, 4861.66 frames /s]\n",
            "100% 1500/1500 [00:00<00:00, 988600.88it/s]\n",
            "  4% 67/1500 [00:14<04:23,  5.43 frames /s]/usr/local/lib/python3.6/dist-packages/liankanstudio/detector.py:166: FutureWarning: elementwise comparison failed; returning scalar instead, but in the future will perform elementwise comparison\n",
            "  mask = labels==self.target\n",
            "100% 1500/1500 [04:36<00:00,  5.42 frames /s]\n",
            "./orange.avi\n",
            "100% 1500/1500 [00:00<00:00, 2309.33 frames /s]\n"
          ],
          "name": "stdout"
        }
      ]
    },
    {
      "cell_type": "code",
      "metadata": {
        "id": "z7efBGv-bDvF"
      },
      "source": [
        "# to reset the whole thing if it goes wrong.\r\n",
        "%%capture \r\n",
        "%cd ..\r\n",
        "!rm -rf liankanstudio"
      ],
      "execution_count": 124,
      "outputs": []
    },
    {
      "cell_type": "code",
      "metadata": {
        "colab": {
          "base_uri": "https://localhost:8080/"
        },
        "id": "1mm58sTvcxmS",
        "outputId": "1ca627a3-f014-4b9c-8e3a-046a29908777"
      },
      "source": [
        "!liankan detect --method=\"human\" --rate=1 --no-look ./orange.mp4 ./orange.avi"
      ],
      "execution_count": 113,
      "outputs": [
        {
          "output_type": "stream",
          "text": [
            "100% 1500/1500 [00:00<00:00, 6096.63frames/s]\n",
            "100% 1500/1500 [00:00<00:00, 4153.59 frames /s]\n",
            "100% 1500/1500 [00:00<00:00, 1079522.31it/s]\n",
            "  0% 0/1500 [00:00<?, ? frames /s]Traceback (most recent call last):\n",
            "  File \"/usr/local/bin/liankan\", line 8, in <module>\n",
            "    sys.exit(liankan())\n",
            "  File \"/usr/local/lib/python3.6/dist-packages/click/core.py\", line 1025, in __call__\n",
            "    return self.main(*args, **kwargs)\n",
            "  File \"/usr/local/lib/python3.6/dist-packages/click/core.py\", line 955, in main\n",
            "    rv = self.invoke(ctx)\n",
            "  File \"/usr/local/lib/python3.6/dist-packages/click/core.py\", line 1517, in invoke\n",
            "    return _process_result(sub_ctx.command.invoke(sub_ctx))\n",
            "  File \"/usr/local/lib/python3.6/dist-packages/click/core.py\", line 1279, in invoke\n",
            "    return ctx.invoke(self.callback, **ctx.params)\n",
            "  File \"/usr/local/lib/python3.6/dist-packages/click/core.py\", line 710, in invoke\n",
            "    return callback(*args, **kwargs)\n",
            "  File \"/usr/local/lib/python3.6/dist-packages/liankanstudio/cli.py\", line 57, in detect\n",
            "    threshold_detect=thresh, merge_thresh=0.3, cpu_count=None, video_path=output_path, look_result=look, cache=cache, release_end=True)\n",
            "  File \"/usr/local/lib/python3.6/dist-packages/liankanstudio/capture.py\", line 458, in compute_stat\n",
            "    ret = [inner_func(info) for info in to_inject]\n",
            "  File \"/usr/local/lib/python3.6/dist-packages/liankanstudio/capture.py\", line 458, in <listcomp>\n",
            "    ret = [inner_func(info) for info in to_inject]\n",
            "  File \"/usr/local/lib/python3.6/dist-packages/liankanstudio/capture.py\", line 441, in inner_func\n",
            "    boxes, conf, labels, true_boxes = _detect(img, detector, threshold_detect, merge_thresh, ret_all=True)\n",
            "  File \"/usr/local/lib/python3.6/dist-packages/liankanstudio/capture.py\", line 55, in _detect\n",
            "    boxes, conf, labels = detector.detect(img)\n",
            "  File \"/usr/local/lib/python3.6/dist-packages/liankanstudio/detector.py\", line 204, in detect\n",
            "    return self.detector(img),None,None\n",
            "  File \"/usr/local/lib/python3.6/dist-packages/liankanstudio/detector.py\", line 161, in <lambda>\n",
            "    self.detector = lambda img : cv2.selectROIs(window_name,img)\n",
            "NameError: name 'window_name' is not defined\n",
            "  0% 1/1500 [00:00<01:54, 13.12 frames /s]\n"
          ],
          "name": "stdout"
        }
      ]
    },
    {
      "cell_type": "code",
      "metadata": {
        "id": "lnCfDFjUpkaI"
      },
      "source": [
        ""
      ],
      "execution_count": null,
      "outputs": []
    }
  ]
}