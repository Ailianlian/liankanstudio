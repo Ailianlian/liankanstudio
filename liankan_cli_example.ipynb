{
  "nbformat": 4,
  "nbformat_minor": 0,
  "metadata": {
    "colab": {
      "name": "liankan_cli_example.ipynb",
      "provenance": [],
      "collapsed_sections": [],
      "toc_visible": true,
      "authorship_tag": "ABX9TyNKdyXm7I8pq/7GVcB5jB70",
      "include_colab_link": true
    },
    "kernelspec": {
      "name": "python3",
      "display_name": "Python 3"
    },
    "accelerator": "GPU"
  },
  "cells": [
    {
      "cell_type": "markdown",
      "metadata": {
        "id": "view-in-github",
        "colab_type": "text"
      },
      "source": [
        "<a href=\"https://colab.research.google.com/github/Ailianlian/liankanstudio/blob/master/liankan_cli_example.ipynb\" target=\"_parent\"><img src=\"https://colab.research.google.com/assets/colab-badge.svg\" alt=\"Open In Colab\"/></a>"
      ]
    },
    {
      "cell_type": "markdown",
      "metadata": {
        "id": "ywRNabWf6_rZ"
      },
      "source": [
        "LianKanStudio Installation from Github.\r\n",
        "you can comment %%capture to see the cell output"
      ]
    },
    {
      "cell_type": "code",
      "metadata": {
        "id": "qoNM0a6eW-3P"
      },
      "source": [
        "%%capture\r\n",
        "!git clone https://github.com/Ailianlian/liankanstudio.git;"
      ],
      "execution_count": null,
      "outputs": []
    },
    {
      "cell_type": "code",
      "metadata": {
        "id": "nbgeEv9oXF2g"
      },
      "source": [
        "%%capture\r\n",
        "%cd liankanstudio"
      ],
      "execution_count": null,
      "outputs": []
    },
    {
      "cell_type": "code",
      "metadata": {
        "id": "h9PzWLo5XH9T"
      },
      "source": [
        "%%capture\r\n",
        "!pip install -r requirments.txt"
      ],
      "execution_count": null,
      "outputs": []
    },
    {
      "cell_type": "code",
      "metadata": {
        "id": "AP5LjzpTXKEZ"
      },
      "source": [
        "# If you need restart after previous cell then execute, if not let the comment \r\n",
        "# %%capture\r\n",
        "# %cd liankanstudio"
      ],
      "execution_count": null,
      "outputs": []
    },
    {
      "cell_type": "code",
      "metadata": {
        "id": "pay2kaoXXgI6"
      },
      "source": [
        "%%capture\r\n",
        "!python setup.py bdist_wheel"
      ],
      "execution_count": null,
      "outputs": []
    },
    {
      "cell_type": "code",
      "metadata": {
        "id": "NHxKSElQX2vD"
      },
      "source": [
        "%%capture\r\n",
        "!pip install dist/liankanstudio-0.4.2.0-py3-none-any.whl"
      ],
      "execution_count": null,
      "outputs": []
    },
    {
      "cell_type": "code",
      "metadata": {
        "colab": {
          "base_uri": "https://localhost:8080/"
        },
        "id": "gqyDUCRsYLe3",
        "outputId": "994c2c7f-c74c-49eb-84f2-3bc398f0bf2a"
      },
      "source": [
        "# check you have torch cuda support. Enable it if you want (but there is really no reason to not do it.)\r\n",
        "import torch\r\n",
        "torch.cuda.is_available()"
      ],
      "execution_count": null,
      "outputs": [
        {
          "output_type": "execute_result",
          "data": {
            "text/plain": [
              "True"
            ]
          },
          "metadata": {
            "tags": []
          },
          "execution_count": 9
        }
      ]
    },
    {
      "cell_type": "code",
      "metadata": {
        "id": "FbcO9KXpYfp3"
      },
      "source": [
        "# Just to know\r\n",
        "# %%capture\r\n",
        "# !nvidia-smi"
      ],
      "execution_count": null,
      "outputs": []
    },
    {
      "cell_type": "code",
      "metadata": {
        "id": "T7fk-Fq-aQUP"
      },
      "source": [
        "# Uncomment if you feel it is useful.\r\n",
        "# !liankan dl --help"
      ],
      "execution_count": null,
      "outputs": []
    },
    {
      "cell_type": "code",
      "metadata": {
        "colab": {
          "base_uri": "https://localhost:8080/"
        },
        "id": "X6p_8u2yaXrW",
        "outputId": "135d6707-dd46-4fae-f6cf-e257c0010151"
      },
      "source": [
        "# Takes a video, here is MISS DIOR – The new Eau de Parfum. Why not.\r\n",
        "!liankan dl --url \"https://www.youtube.com/watch?v=h4s0llOpKrU\" ./temp_dl/dior.mp4"
      ],
      "execution_count": null,
      "outputs": [
        {
          "output_type": "stream",
          "text": [
            "The directory is not present. Creating a new one..\n"
          ],
          "name": "stdout"
        }
      ]
    },
    {
      "cell_type": "code",
      "metadata": {
        "colab": {
          "base_uri": "https://localhost:8080/"
        },
        "id": "nC1KjyKjatym",
        "outputId": "b2dff2d7-a8f0-416d-d386-a0c38faa0253"
      },
      "source": [
        "# Here we use a keypoint rcnn with resnet 50 as backbone, the one from torchvision models.\r\n",
        "# WARNING : --no-look is important here. Colab does not support the cv2 window.\r\n",
        "# The output format must be API (because of codec used in the liankanstudio module)\r\n",
        "# cache should help for a war restart and let you do analyse (after 0.4.4)\r\n",
        "# WARNING yolo method does not work since weights are not here. You can download them from https://pjreddie.com/darknet/yolo/ but you need to use the python package. \r\n",
        "!liankan detect --method=\"torchkrcnn\" --rate=5 --thresh=0.4 --no-look --cache ./temp_dl/dior.mp4 ./temp_dl/krcnn_r1_t4.avi"
      ],
      "execution_count": null,
      "outputs": [
        {
          "output_type": "stream",
          "text": [
            "100% 1125/1125 [00:00<00:00, 1755.71frames/s]\n",
            "Writing 1124 frames to CSV...\n",
            "Downloading: \"https://download.pytorch.org/models/keypointrcnn_resnet50_fpn_coco-fc266e95.pth\" to /root/.cache/torch/hub/checkpoints/keypointrcnn_resnet50_fpn_coco-fc266e95.pth\n",
            "100% 226M/226M [00:06<00:00, 34.0MB/s]\n",
            "100% 1125/1125 [00:00<00:00, 3887.65 frames /s]\n",
            "100% 1125/1125 [00:00<00:00, 1529527.39it/s]\n",
            " 13% 151/1125 [00:14<01:21, 11.94 frames /s]/usr/local/lib/python3.6/dist-packages/liankanstudio/detector.py:167: FutureWarning: elementwise comparison failed; returning scalar instead, but in the future will perform elementwise comparison\n",
            "  mask = labels==self.target\n",
            "100% 1125/1125 [01:08<00:00, 16.32 frames /s]\n",
            "./temp_dl/krcnn_r1_t4.avi\n",
            "100% 1125/1125 [00:00<00:00, 1727.00 frames /s]\n"
          ],
          "name": "stdout"
        }
      ]
    },
    {
      "cell_type": "code",
      "metadata": {
        "id": "z7efBGv-bDvF"
      },
      "source": [
        "# to reset the whole thing if a new version is available and notebook not updated.\r\n",
        "# %%capture \r\n",
        "# %cd ..\r\n",
        "# !rm -rf liankanstudio"
      ],
      "execution_count": null,
      "outputs": []
    },
    {
      "cell_type": "code",
      "metadata": {
        "colab": {
          "base_uri": "https://localhost:8080/"
        },
        "id": "1mm58sTvcxmS",
        "outputId": "c21afe2d-0bf9-4833-c558-945218e87cbd"
      },
      "source": [
        "# You can try other detection, with other threshold <thresh> and other target (at least for torch, yolo and ssd).\r\n",
        "# human is not supported here and haar does not have the classes of COCO.\r\n",
        "!liankan detect --method=\"human\" --rate=1 --no-look ./temp_dl/dior.mp4 ./useless.avi"
      ],
      "execution_count": null,
      "outputs": [
        {
          "output_type": "stream",
          "text": [
            "100% 1125/1125 [00:00<00:00, 4880.76frames/s]\n",
            "100% 1125/1125 [00:00<00:00, 3528.57 frames /s]\n",
            "100% 1125/1125 [00:00<00:00, 1112875.47it/s]\n",
            "  0% 0/1125 [00:00<?, ? frames /s]Finish the selection process by pressing ESC button!\n",
            "Select a ROI and then press SPACE or ENTER button!\n",
            "Cancel the selection process by pressing c button!\n",
            "qt.qpa.xcb: could not connect to display \n",
            "qt.qpa.plugin: Could not load the Qt platform plugin \"xcb\" in \"/usr/local/lib/python3.6/dist-packages/cv2/qt/plugins\" even though it was found.\n",
            "This application failed to start because no Qt platform plugin could be initialized. Reinstalling the application may fix this problem.\n",
            "\n",
            "Available platform plugins are: xcb.\n",
            "\n"
          ],
          "name": "stdout"
        }
      ]
    }
  ]
}